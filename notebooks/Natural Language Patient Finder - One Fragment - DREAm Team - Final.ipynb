{
 "cells": [
  {
   "cell_type": "markdown",
   "id": "a4b05d0a",
   "metadata": {},
   "source": [
    "# Natural Language Patient Finder\n",
    "\n",
    "Identify patients stored in a FHIR server that match a natural language fragment."
   ]
  },
  {
   "cell_type": "code",
   "execution_count": null,
   "id": "rough-saver",
   "metadata": {},
   "outputs": [],
   "source": [
    "import requests\n",
    "import json"
   ]
  },
  {
   "cell_type": "markdown",
   "id": "be67d46a",
   "metadata": {},
   "source": [
    "# Set target services\n",
    "Services usually share a namespace. Specify namespace to be used."
   ]
  },
  {
   "cell_type": "code",
   "execution_count": null,
   "id": "numeric-prefix",
   "metadata": {},
   "outputs": [],
   "source": [
    "ingress_subdomain = \"\"\n",
    "\n",
    "namespace = \"hackathon\" # input(\"Enter a service namespace: \")\n",
    "\n",
    "#Learned Intent endpoint\n",
    "intentURL = \"https://\" + namespace  + \"-learned-intent.\" + ingress_subdomain + \"/?text=\"\n",
    "\n",
    "#Key Concept Extractor endpoint\n",
    "extractConceptsURL = \"https://\" + namespace + \"-key-concept-extractor.\" + ingress_subdomain\n",
    "\n",
    "#Generate CQL endpoint\n",
    "generateCQLURL = \"https://\" + namespace + \"-cql-generator.\" + ingress_subdomain + \"/generate\"\n",
    "\n",
    "#libraries\n",
    "cohortURL = \"https://hackathon-ingestion-cohort-service.\" + ingress_subdomain + \"/cohort-service/libraries\"\n",
    "#/libraries/nameoflibrary  (get or delete)\n",
    "#/libraries (post new library)\n",
    "#/libraries/nameoflibrary/patients (return list of patients)\n",
    "#/libraries/nameoflibrary/patientIds (return list of patient ids)"
   ]
  },
  {
   "cell_type": "markdown",
   "id": "e99dd625",
   "metadata": {},
   "source": [
    "# Provide fragment to be analyzed\n",
    "Examples:\n",
    "- Female patients > 18 years old\n",
    "- Patient has diabetes mellitus\n",
    "- Hypertriglyceridemia\n",
    "- nonproliferative diabetic retinopathy\n",
    "- no gestational diabetes\n",
    "- Patient is able to return to Johns Hopkins for follow-up appointments."
   ]
  },
  {
   "cell_type": "code",
   "execution_count": null,
   "id": "acoustic-familiar",
   "metadata": {},
   "outputs": [],
   "source": [
    "fragment = input(\"Enter a fragment: \")"
   ]
  },
  {
   "cell_type": "markdown",
   "id": "66782642",
   "metadata": {},
   "source": [
    "# Identify Intent of fragment"
   ]
  },
  {
   "cell_type": "code",
   "execution_count": null,
   "id": "d37c7c80",
   "metadata": {},
   "outputs": [],
   "source": [
    "url = intentURL + \"\\\"\" + fragment + \"\\\"\"\n",
    "\n",
    "resp = requests.get(url=url)\n",
    "intent = resp.content.decode(\"utf-8\")\n",
    "print(\"Learned intent is: \", intent)"
   ]
  },
  {
   "cell_type": "markdown",
   "id": "2ab6a15d",
   "metadata": {},
   "source": [
    "# Extract key entities for given fragment and intent"
   ]
  },
  {
   "cell_type": "code",
   "execution_count": null,
   "id": "virgin-forum",
   "metadata": {},
   "outputs": [],
   "source": [
    "params = {'intent': intent, 'text': fragment}\n",
    "  \n",
    "# sending get request and saving the response as response object\n",
    "concept_set = requests.get(url = extractConceptsURL, params = params).content.decode(\"utf-8\")\n",
    "\n",
    "parsed = json.loads(concept_set)\n",
    "print(json.dumps(parsed, indent=4, sort_keys=True))"
   ]
  },
  {
   "cell_type": "markdown",
   "id": "92f00b7c",
   "metadata": {},
   "source": [
    "# (Optional) show SnoMed concept expansion"
   ]
  },
  {
   "cell_type": "code",
   "execution_count": null,
   "id": "dressed-bradley",
   "metadata": {},
   "outputs": [],
   "source": [
    "snomed_code = input(\"Enter SnoMed code to expand: \")\n",
    "\n",
    "snomed_expansion_url = \"https://snowstorm-fhir.snomedtools.org/fhir/CodeSystem/$lookup?code=\" + snomed_code;\n",
    "\n",
    "expansion_response = requests.get(url=snomed_expansion_url)\n",
    "\n",
    "parsed = json.loads( expansion_response.content.decode(\"utf-8\"))\n",
    "print(\"\\nSnoMed expansion:\")\n",
    "print(json.dumps(parsed, indent=4, sort_keys=True))"
   ]
  },
  {
   "cell_type": "markdown",
   "id": "fallen-improvement",
   "metadata": {},
   "source": [
    "# Generate CQL from concepts and identified type"
   ]
  },
  {
   "cell_type": "code",
   "execution_count": null,
   "id": "developed-velvet",
   "metadata": {},
   "outputs": [],
   "source": [
    "cql_response = requests.post(url=generateCQLURL, data={'conceptSet': concept_set})\n",
    "\n",
    "cql = cql_response.content.decode(\"utf-8\")\n",
    "print(\"\\nCQL Generator produced:\\n\\n\", cql)"
   ]
  },
  {
   "cell_type": "markdown",
   "id": "a6912584",
   "metadata": {},
   "source": [
    "# Push CQL to Cohort Service and Run"
   ]
  },
  {
   "cell_type": "code",
   "execution_count": null,
   "id": "elder-complexity",
   "metadata": {},
   "outputs": [],
   "source": [
    "library_name = cql.split('\"')[1]\n",
    "print(\"name:\", library_name)\n",
    "\n",
    "library_version = cql.split(\"'\")[1]\n",
    "print(\"version:\", library_version)\n",
    "\n",
    "library_endpoint = library_name + \"-\" + library_version\n",
    "print(\"endpoint extension:\", library_endpoint)\n",
    "\n",
    "#verify no existing CQL exists with this name. Delete if it does.\n",
    "resp = requests.delete(cohortURL + \"/\" + library_endpoint)\n",
    "print(resp.content.decode(\"utf-8\"))\n",
    "\n",
    "#Push CQL to cohort service\n",
    "headers = {}\n",
    "headers[\"Content-Type\"] = \"text/plain\"\n",
    "headers[\"Accept\"] = \"application/json\"\n",
    "\n",
    "resp = requests.post(url = cohortURL, data = cql, headers = headers)\n",
    "\n",
    "print(\"Posting CQL to Cohort Service: \" + str(resp))\n",
    "\n",
    "# Run CQL to find matching patient ID's\n",
    "run_endpoint = cohortURL + \"/\" + library_endpoint + \"/patientIds\"\n",
    "resp = requests.get(url=run_endpoint)\n",
    "\n",
    "print(\"Running CQL on Cohort Service: \" + str(resp))\n",
    "\n",
    "result = resp.content.decode(\"utf-8\")\n",
    "\n",
    "ids = (eval(result))\n",
    "print(len(ids), \"patients returned\")\n",
    "for id in ids:\n",
    "    print(id)"
   ]
  },
  {
   "cell_type": "markdown",
   "id": "f3517fba",
   "metadata": {},
   "source": [
    "# Run CQL on cohort service to identify matching patients"
   ]
  },
  {
   "cell_type": "code",
   "execution_count": null,
   "id": "72db0d58",
   "metadata": {},
   "outputs": [],
   "source": [
    "run_endpoint = cohortURL + \"/\" + library_endpoint + \"/patients\"\n",
    "total_resp = requests.get(url=run_endpoint)\n",
    "\n",
    "print(json.dumps(total_resp.json(), indent=4, sort_keys=True))"
   ]
  }
 ],
 "metadata": {
  "kernelspec": {
   "display_name": "Python 3 (ipykernel)",
   "language": "python",
   "name": "python3"
  },
  "language_info": {
   "codemirror_mode": {
    "name": "ipython",
    "version": 3
   },
   "file_extension": ".py",
   "mimetype": "text/x-python",
   "name": "python",
   "nbconvert_exporter": "python",
   "pygments_lexer": "ipython3",
   "version": "3.9.6"
  }
 },
 "nbformat": 4,
 "nbformat_minor": 5
}
